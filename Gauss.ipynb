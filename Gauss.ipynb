{
  "nbformat": 4,
  "nbformat_minor": 0,
  "metadata": {
    "colab": {
      "name": "Gauss.ipynb",
      "provenance": [],
      "collapsed_sections": []
    },
    "kernelspec": {
      "name": "python3",
      "display_name": "Python 3"
    }
  },
  "cells": [
    {
      "cell_type": "code",
      "metadata": {
        "id": "TdrRsVq4Pydn"
      },
      "source": [
        "Gauss Ramírez Villarreal Axel"
      ],
      "execution_count": null,
      "outputs": []
    },
    {
      "cell_type": "markdown",
      "metadata": {
        "id": "6_ezZKzwQ85E"
      },
      "source": [
        "Ecuación 1"
      ]
    },
    {
      "cell_type": "code",
      "metadata": {
        "colab": {
          "base_uri": "https://localhost:8080/",
          "height": 805
        },
        "id": "xPUCqsOXMewB",
        "outputId": "663f37d6-6b2e-43d4-b1f4-8056f64c02f8"
      },
      "source": [
        "import matplotlib.pyplot as plt\r\n",
        "\r\n",
        "def X(y,z):\r\n",
        "    return  (1/9)*(-2-(2*y)+z)\r\n",
        "def Y(x,z):\r\n",
        "    return  (1/8)*(3-(7*x)-(5*z))\r\n",
        "def Z(x,y):\r\n",
        "    return  (1/5)*(-3+((3/2)*x)+(2*y))\r\n",
        "\r\n",
        "\r\n",
        "def g_next(x0,y0,z0,n):\r\n",
        "       \r\n",
        "    x = [x0]\r\n",
        "    y = [y0]\r\n",
        "    z = [z0]\r\n",
        "    \r\n",
        "    i=0\r\n",
        "     \r\n",
        "    while (i<n):\r\n",
        "        \r\n",
        "       x.append(X(y[i],z[i]))\r\n",
        "       y.append(Y(x[i+1],z[i]))\r\n",
        "       z.append(Z(x[i+1],y[i+1]))\r\n",
        "            \r\n",
        "       print('Iteración '+ str(i+1))\r\n",
        "       print('X' + str(i+1)+'=' + '' + str(x[i+1]))\r\n",
        "       print('Y' + str(i+1)+'=' + '' + str(y[i+1]))\r\n",
        "       print('Z' + str(i+1)+'=' + '' + str(z[i+1])+'\\n')\r\n",
        "            \r\n",
        "       i+=1\r\n",
        "                \r\n",
        "    print('x: '+ str(x) )\r\n",
        "    print('y: '+ str(y) )\r\n",
        "    print('z: '+ str(z) )\r\n",
        "        \r\n",
        "    plt.plot(x,label=\"x\",color='red')\r\n",
        "    plt.plot(y,label=\"y\",color='orange')\r\n",
        "    plt.plot(z,label=\"z\",color='green')\r\n",
        "    \r\n",
        "    plt.title(\"Ecuación 1\", fontsize = 30)\r\n",
        "    \r\n",
        "    plt.legend()\r\n",
        "    plt.show()\r\n",
        "\r\n",
        "    \r\n",
        "x = float(input('Ingresa el valor de x: \\n'))\r\n",
        "y = float(input('Ingresa el valor de y: \\n'))\r\n",
        "z = float(input('Ingresa el valor de z: \\n'))\r\n",
        "iteracion = float(input('Ingresa el numero de iteraciones: \\n'))\r\n",
        "g_next(x,y,z,iteracion)"
      ],
      "execution_count": 7,
      "outputs": [
        {
          "output_type": "stream",
          "text": [
            "Ingresa el valor de x: \n",
            "0\n",
            "Ingresa el valor de y: \n",
            "0\n",
            "Ingresa el valor de z: \n",
            "0\n",
            "Ingresa el numero de iteraciones: \n",
            "4\n",
            "Iteración 1\n",
            "X1=-0.2222222222222222\n",
            "Y1=0.5694444444444444\n",
            "Z1=-0.43888888888888894\n",
            "\n",
            "Iteración 2\n",
            "X2=-0.39753086419753086\n",
            "Y2=0.997145061728395\n",
            "Z2=-0.3204012345679013\n",
            "\n",
            "Iteración 3\n",
            "X3=-0.47941015089163236\n",
            "Y3=0.9947346536351166\n",
            "Z3=-0.3459291838134431\n",
            "\n",
            "Iteración 4\n",
            "X4=-0.4817109434537418\n",
            "Y4=1.012702815405426\n",
            "Z4=-0.3394321568739521\n",
            "\n",
            "x: [0.0, -0.2222222222222222, -0.39753086419753086, -0.47941015089163236, -0.4817109434537418]\n",
            "y: [0.0, 0.5694444444444444, 0.997145061728395, 0.9947346536351166, 1.012702815405426]\n",
            "z: [0.0, -0.43888888888888894, -0.3204012345679013, -0.3459291838134431, -0.3394321568739521]\n"
          ],
          "name": "stdout"
        },
        {
          "output_type": "display_data",
          "data": {
            "image/png": "[encoded data removed]",
            "text/plain": [
              "<Figure size 432x288 with 1 Axes>"
            ]
          },
          "metadata": {
            "tags": [],
            "needs_background": "light"
          }
        }
      ]
    },
    {
      "cell_type": "markdown",
      "metadata": {
        "id": "360QfZCzQ6Fh"
      },
      "source": [
        "Ecuacion 2"
      ]
    },
    {
      "cell_type": "code",
      "metadata": {
        "colab": {
          "base_uri": "https://localhost:8080/",
          "height": 689
        },
        "id": "sqCcHOFXRESn",
        "outputId": "95bd3c97-30a7-417e-d354-029ca5730aac"
      },
      "source": [
        "import matplotlib.pyplot as plt\r\n",
        "\r\n",
        "def X1(x2):\r\n",
        "  return  (1/5)*(12-(2*x2))\r\n",
        "def X2(x1):\r\n",
        "  return  (1/5)*(4+((1/2)*x1))\r\n",
        "\r\n",
        "\r\n",
        "def g_next(x10,x20,n):\r\n",
        "       \r\n",
        "  x1 = [x10]\r\n",
        "  x2 = [x20]\r\n",
        "    \r\n",
        "  i=0\r\n",
        "     \r\n",
        "  while (i<4):\r\n",
        "        \r\n",
        "    x1.append(X1(x2[i]))\r\n",
        "    x2.append(X2(x1[i+1]))\r\n",
        "            \r\n",
        "            \r\n",
        "    print('Iteración'+ str(i+1))\r\n",
        "    print('X1' + str(i+1)+'=' + '' + str(x1[i+1]))\r\n",
        "    print('X2' + str(i+1)+'=' + '' + str(x2[i+1])+'\\n')\r\n",
        "                 \r\n",
        "    i+=1\r\n",
        "                \r\n",
        "  print('x1: '+ str(x1) )\r\n",
        "  print('x2: '+ str(x2) )    \r\n",
        "    \r\n",
        "    \r\n",
        "  plt.plot(x1,label=\"x1\",color='red')\r\n",
        "  plt.plot(x2,label=\"x2\",color='blue')   \r\n",
        "    \r\n",
        "    \r\n",
        "  plt.title(\"Ecuación 2\", fontsize = 30)\r\n",
        "    \r\n",
        "  plt.legend()\r\n",
        "  plt.show()\r\n",
        "    \r\n",
        "x1 = float(input('Ingresa el valor de X1: \\n'))\r\n",
        "x2 = float(input('Ingresa  el valor de X2: \\n'))\r\n",
        "iteracion = float(input('Introduce el numero de iteraciones: \\n'))\r\n",
        "g_next(x1,x2,iteracion)"
      ],
      "execution_count": 8,
      "outputs": [
        {
          "output_type": "stream",
          "text": [
            "Ingresa el valor de x1: \n",
            "0\n",
            "Ingresa  el valor de x2: \n",
            "0\n",
            "Introduce el numero de iteraciones: \n",
            "4\n",
            "Iteración1\n",
            "X11=2.4000000000000004\n",
            "X21=1.04\n",
            "\n",
            "Iteración2\n",
            "X12=1.984\n",
            "X22=0.9984000000000001\n",
            "\n",
            "Iteración3\n",
            "X13=2.00064\n",
            "X23=1.000064\n",
            "\n",
            "Iteración4\n",
            "X14=1.9999744000000002\n",
            "X24=0.99999744\n",
            "\n",
            "x1: [0.0, 2.4000000000000004, 1.984, 2.00064, 1.9999744000000002]\n",
            "x2: [0.0, 1.04, 0.9984000000000001, 1.000064, 0.99999744]\n"
          ],
          "name": "stdout"
        },
        {
          "output_type": "display_data",
          "data": {
            "image/png": "[encoded data removed]",
            "text/plain": [
              "<Figure size 432x288 with 1 Axes>"
            ]
          },
          "metadata": {
            "tags": [],
            "needs_background": "light"
          }
        }
      ]
    },
    {
      "cell_type": "markdown",
      "metadata": {
        "id": "urwxTp3sSfLc"
      },
      "source": [
        "Ecuación 3"
      ]
    },
    {
      "cell_type": "code",
      "metadata": {
        "colab": {
          "base_uri": "https://localhost:8080/",
          "height": 805
        },
        "id": "LNBcU8tESutI",
        "outputId": "8a6676de-c2cd-4749-ba35-0efb9833f38f"
      },
      "source": [
        "import matplotlib.pyplot as plt\r\n",
        "\r\n",
        "def X1(x2):\r\n",
        "  return  (1/2)*(1-((1/4)*x2))\r\n",
        "def X2(x1):\r\n",
        "  return  (1/5)*(3-(2*x1))\r\n",
        "def X3(x1):\r\n",
        "  return  (1/4)*(3-x1)\r\n",
        "\r\n",
        "\r\n",
        "def g_next(x10,x20,x30,n):\r\n",
        "        \r\n",
        "  x1 = [x10]\r\n",
        "  x2 = [x20]\r\n",
        "  x3 = [x30]\r\n",
        "    \r\n",
        "  i=0\r\n",
        "    \r\n",
        "  while (i<n):\r\n",
        "        \r\n",
        "    x1.append(X1(x2[i]))\r\n",
        "    x2.append(X2(x1[i+1]))\r\n",
        "    x3.append(X3(x1[i+1]))\r\n",
        "            \r\n",
        "            \r\n",
        "    print('Iteración'+ str(i+1))\r\n",
        "    print('X1' + str(i+1)+'=' + '' + str(x1[i+1]))\r\n",
        "    print('X2' + str(i+1)+'=' + '' + str(x2[i+1]))\r\n",
        "    print('X3' + str(i+1)+'=' + '' + str(x3[i+1])+'\\n')\r\n",
        "           \r\n",
        "    i+=1\r\n",
        "            \r\n",
        "    \r\n",
        "  print('x1: '+ str(x1) )\r\n",
        "  print('x2: '+ str(x2) )\r\n",
        "  print('x3: '+ str(x3) )\r\n",
        "        \r\n",
        "    \r\n",
        "  plt.plot(x1,label=\"x1\",color='red')\r\n",
        "  plt.plot(x2,label=\"x2\",color='purple')\r\n",
        "  plt.plot(x3,label=\"x3\",color='brown')\r\n",
        "       \r\n",
        "  plt.title(\"Ecuación 3\", fontsize = 30)\r\n",
        "    \r\n",
        "  plt.legend()\r\n",
        "  plt.show()\r\n",
        "\r\n",
        "    \r\n",
        "\r\n",
        "x1 = float(input('Ingresa el valor de X1: \\n'))\r\n",
        "x2 = float(input('Ingresa el valor de X2: \\n'))\r\n",
        "x3 = float(input('Ingresa el valor de X03: \\n'))\r\n",
        "\r\n",
        "iteracion = float(input('Ingresa el numero de iteraciones: \\n'))\r\n",
        "g_next(x1,x2,x3,iteracion)"
      ],
      "execution_count": 11,
      "outputs": [
        {
          "output_type": "stream",
          "text": [
            "Ingresa el valor de X1: \n",
            "0\n",
            "Ingresa el valor de X2: \n",
            "0\n",
            "Ingresa el valor de X3: \n",
            "0\n",
            "Ingresa el numero de iteraciones: \n",
            "4\n",
            "Iteración1\n",
            "X11=0.5\n",
            "X21=0.4\n",
            "X31=0.625\n",
            "\n",
            "Iteración2\n",
            "X12=0.45\n",
            "X22=0.42000000000000004\n",
            "X32=0.6375\n",
            "\n",
            "Iteración3\n",
            "X13=0.4475\n",
            "X23=0.42100000000000004\n",
            "X33=0.638125\n",
            "\n",
            "Iteración4\n",
            "X14=0.44737499999999997\n",
            "X24=0.42105\n",
            "X34=0.63815625\n",
            "\n",
            "x1: [0.0, 0.5, 0.45, 0.4475, 0.44737499999999997]\n",
            "x2: [0.0, 0.4, 0.42000000000000004, 0.42100000000000004, 0.42105]\n",
            "x3: [0.0, 0.625, 0.6375, 0.638125, 0.63815625]\n"
          ],
          "name": "stdout"
        },
        {
          "output_type": "display_data",
          "data": {
            "image/png": "[encoded data removed]",
            "text/plain": [
              "<Figure size 432x288 with 1 Axes>"
            ]
          },
          "metadata": {
            "tags": [],
            "needs_background": "light"
          }
        }
      ]
    },
    {
      "cell_type": "markdown",
      "metadata": {
        "id": "zOneJ8E1UEv-"
      },
      "source": [
        "Ecuación 4"
      ]
    },
    {
      "cell_type": "code",
      "metadata": {
        "colab": {
          "base_uri": "https://localhost:8080/",
          "height": 805
        },
        "id": "8lQcvoUyUVzb",
        "outputId": "a3aa2af9-b541-4ad8-c5ce-3797f7c37260"
      },
      "source": [
        "import matplotlib.pyplot as plt\r\n",
        "\r\n",
        "def X1(x2,x3):\r\n",
        "  return  (1/3)*(11-x2-((1/2)*x3))\r\n",
        "def X2(x1,x3):\r\n",
        "  return  (1/2)*(5+((1/4)*x1)-((1/2)*x3))\r\n",
        "def X3(x1,x2):\r\n",
        "  return  (1/6)*(23-x1+x2)\r\n",
        "\r\n",
        "\r\n",
        "def g_next(x10,x20,x30,n):    \r\n",
        "    \r\n",
        "  x1 = [x10]\r\n",
        "  x2 = [x20]\r\n",
        "  x3 = [x30]\r\n",
        "    \r\n",
        "  i=0\r\n",
        "    \r\n",
        "  while (i<n):\r\n",
        "        \r\n",
        "    x1.append(X1(x2[i],x3[i]))\r\n",
        "    x2.append(X2(x1[i+1],x3[i]))\r\n",
        "    x3.append(X3(x1[i+1],x2[i+1]))       \r\n",
        "            \r\n",
        "    print('Iteración'+ str(i+1))\r\n",
        "    print('X1' + str(i+1)+'=' + '' + str(x1[i+1]))\r\n",
        "    print('X2' + str(i+1)+'=' + '' + str(x2[i+1]))\r\n",
        "    print('X3' + str(i+1)+'=' + '' + str(x3[i+1])+'\\n')\r\n",
        "           \r\n",
        "    i+=1\r\n",
        "            \r\n",
        "    \r\n",
        "  print('X1: '+ str(x1) )\r\n",
        "  print('X2: '+ str(x2) )\r\n",
        "  print('X3: '+ str(x3) )\r\n",
        "    \r\n",
        "      \r\n",
        "  plt.plot(x1,label=\"x1\",color='purple')\r\n",
        "  plt.plot(x2,label=\"x2\",color='blue')\r\n",
        "  plt.plot(x3,label=\"x3\",color='black')\r\n",
        "      \r\n",
        "  plt.title(\"Ecuación 4\", fontsize = 30)\r\n",
        "    \r\n",
        "  plt.legend()\r\n",
        "  plt.show()\r\n",
        "    \r\n",
        "\r\n",
        "x1 = float(input('Ingresa el valor de X1: \\n'))\r\n",
        "x2 = float(input('Ingresa el valor de X2: \\n'))\r\n",
        "x3 = float(input('Ingresa el valor de X3: \\n'))\r\n",
        "\r\n",
        "iteracion = float(input('Ingresa el numero de iteraciones: \\n'))\r\n",
        "g_next(x1,x2,x3,iteracion)"
      ],
      "execution_count": 12,
      "outputs": [
        {
          "output_type": "stream",
          "text": [
            "Ingresa el valor de X1: \n",
            "0\n",
            "Ingresa el valor de X2: \n",
            "0\n",
            "Ingresa el valor de X3: \n",
            "0\n",
            "Ingresa el numero de iteraciones: \n",
            "4\n",
            "Iteración1\n",
            "X11=3.6666666666666665\n",
            "X21=2.9583333333333335\n",
            "X31=3.7152777777777772\n",
            "\n",
            "Iteración2\n",
            "X12=2.0613425925925926\n",
            "X22=1.8288483796296298\n",
            "X32=3.7945842978395063\n",
            "\n",
            "Iteración3\n",
            "X13=2.4246198238168724\n",
            "X23=1.8544314035172325\n",
            "X33=3.73830192995006\n",
            "\n",
            "Iteración4\n",
            "X14=2.4254725438359124\n",
            "X24=1.868608585491974\n",
            "X34=3.7405226736093433\n",
            "\n",
            "X1: [0.0, 3.6666666666666665, 2.0613425925925926, 2.4246198238168724, 2.4254725438359124]\n",
            "X2: [0.0, 2.9583333333333335, 1.8288483796296298, 1.8544314035172325, 1.868608585491974]\n",
            "X3: [0.0, 3.7152777777777772, 3.7945842978395063, 3.73830192995006, 3.7405226736093433]\n"
          ],
          "name": "stdout"
        },
        {
          "output_type": "display_data",
          "data": {
            "image/png": "[encoded data removed]",
            "text/plain": [
              "<Figure size 432x288 with 1 Axes>"
            ]
          },
          "metadata": {
            "tags": [],
            "needs_background": "light"
          }
        }
      ]
    }
  ]
}