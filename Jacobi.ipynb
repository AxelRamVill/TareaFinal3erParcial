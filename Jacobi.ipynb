{
  "nbformat": 4,
  "nbformat_minor": 0,
  "metadata": {
    "colab": {
      "name": "Jacobi.ipynb",
      "provenance": [],
      "collapsed_sections": []
    },
    "kernelspec": {
      "name": "python3",
      "display_name": "Python 3"
    }
  },
  "cells": [
    {
      "cell_type": "code",
      "metadata": {
        "id": "JjT94nqSWFC9"
      },
      "source": [
        "Jacobi Ramírez Villarreal Axel"
      ],
      "execution_count": null,
      "outputs": []
    },
    {
      "cell_type": "markdown",
      "metadata": {
        "id": "_XsNDykCXcbU"
      },
      "source": [
        "Ecuación 1"
      ]
    },
    {
      "cell_type": "code",
      "metadata": {
        "colab": {
          "base_uri": "https://localhost:8080/",
          "height": 805
        },
        "id": "_mYhwPxDWcnn",
        "outputId": "9f49659c-ddd2-45e4-ca93-543629fdd8d0"
      },
      "source": [
        "import matplotlib.pyplot as plt\r\n",
        "\r\n",
        "def X(y,z):\r\n",
        "  return  -(2/9) - ((2/9)*y) + ((1/9)*z)\r\n",
        "def Y(x,z):\r\n",
        "  return  0.375 - (0.875*x) - (0.625*z)\r\n",
        "def Z(x,y):\r\n",
        "  return  -0.6 + (0.3*x) + (0.4*y)\r\n",
        "\r\n",
        "def g_next(x0,y0,z0,n):\r\n",
        "    \r\n",
        "  x = [x0]\r\n",
        "  y = [y0]\r\n",
        "  z = [z0]\r\n",
        "    \r\n",
        "  i=0\r\n",
        "     \r\n",
        "  while (i<n):\r\n",
        "\r\n",
        "    x.append(X(y[i],z[i]))\r\n",
        "    y.append(Y(x[i],z[i]))\r\n",
        "    z.append(Z(x[i],y[i]))\r\n",
        "            \r\n",
        "    print('Iteración'+ str(i+1))\r\n",
        "    print('X' + str(i+1)+'=' + '' + str(x[i+1]))\r\n",
        "    print('Y' + str(i+1)+'=' + '' + str(y[i+1]))\r\n",
        "    print('Z' + str(i+1)+'=' + '' + str(z[i+1])+'\\n')\r\n",
        "            \r\n",
        "    i+=1\r\n",
        "            \r\n",
        "    \r\n",
        "  print('x: '+ str(x) )\r\n",
        "  print('y: '+ str(y) )\r\n",
        "  print('z: '+ str(z) )\r\n",
        "      \r\n",
        "  plt.plot(x,label=\"x\",color='red')\r\n",
        "  plt.plot(y,label=\"y\",color='orange')\r\n",
        "  plt.plot(z,label=\"z\",color='blue')\r\n",
        "    \r\n",
        "    \r\n",
        "  plt.title(\"Ecuación 1\", fontsize = 30)\r\n",
        "    \r\n",
        "  plt.legend()\r\n",
        "  plt.show()\r\n",
        "\r\n",
        "x = float(input('Ingresa el valor de x: \\n'))\r\n",
        "y = float(input('Ingresa el valor de y: \\n'))\r\n",
        "z = float(input('Ingresa el valor de z: \\n'))\r\n",
        "iteracion = float(input('Ingresa el numero de iteraciones: \\n'))\r\n",
        "g_next(x,y,z,iteracion)"
      ],
      "execution_count": 1,
      "outputs": [
        {
          "output_type": "stream",
          "text": [
            "Ingresa el valor de x: \n",
            "0\n",
            "Ingresa el valor de y: \n",
            "0\n",
            "Ingresa el valor de z: \n",
            "0\n",
            "Ingresa el numero de iteraciones: \n",
            "4\n",
            "Iteración1\n",
            "X1=-0.2222222222222222\n",
            "Y1=0.375\n",
            "Z1=-0.6\n",
            "\n",
            "Iteración2\n",
            "X2=-0.3722222222222222\n",
            "Y2=0.9444444444444444\n",
            "Z2=-0.5166666666666666\n",
            "\n",
            "Iteración3\n",
            "X3=-0.48950617283950615\n",
            "Y3=1.023611111111111\n",
            "Z3=-0.3338888888888889\n",
            "\n",
            "Iteración4\n",
            "X4=-0.48679012345679007\n",
            "Y4=1.0119984567901235\n",
            "Z4=-0.33740740740740743\n",
            "\n",
            "x: [0.0, -0.2222222222222222, -0.3722222222222222, -0.48950617283950615, -0.48679012345679007]\n",
            "y: [0.0, 0.375, 0.9444444444444444, 1.023611111111111, 1.0119984567901235]\n",
            "z: [0.0, -0.6, -0.5166666666666666, -0.3338888888888889, -0.33740740740740743]\n"
          ],
          "name": "stdout"
        },
        {
          "output_type": "display_data",
          "data": {
            "image/png": "[encoded data removed]",
            "text/plain": [
              "<Figure size 432x288 with 1 Axes>"
            ]
          },
          "metadata": {
            "tags": [],
            "needs_background": "light"
          }
        }
      ]
    },
    {
      "cell_type": "markdown",
      "metadata": {
        "id": "E71dtCZbXaG_"
      },
      "source": [
        "Ecuación 2"
      ]
    },
    {
      "cell_type": "code",
      "metadata": {
        "colab": {
          "base_uri": "https://localhost:8080/",
          "height": 689
        },
        "id": "xHHXIb5-XjS_",
        "outputId": "a94957e4-888a-4228-d3ab-cf98a11ed76c"
      },
      "source": [
        "import matplotlib.pyplot as plt\r\n",
        "\r\n",
        "def X1(x2):\r\n",
        "  return  (12/5)-((2/5)*x2)\r\n",
        "def X2(x1):\r\n",
        "  return  (4/5)+((1/10)*x1)\r\n",
        "\r\n",
        "\r\n",
        "def g_next(x10,x20,n):\r\n",
        "        \r\n",
        "  x1 = [x10]\r\n",
        "  x2 = [x20]   \r\n",
        "    \r\n",
        "  i=0\r\n",
        "     \r\n",
        "  while (i<n):\r\n",
        "        \r\n",
        "    x1.append(X1(x2[i]))\r\n",
        "    x2.append(X2(x1[i]))\r\n",
        "                    \r\n",
        "    print('Iteración'+ str(i+1))\r\n",
        "    print('X1' + str(i+1)+'=' + '' + str(x1[i+1]))\r\n",
        "    print('X2' + str(i+1)+'=' + '' + str(x2[i+1])+'\\n')\r\n",
        "                   \r\n",
        "    i+=1\r\n",
        "              \r\n",
        "  print('x1: '+ str(x1) )\r\n",
        "  print('x2: '+ str(x2) )\r\n",
        "    \r\n",
        "    \r\n",
        "  plt.plot(x1,label=\"x1\",color='purple')\r\n",
        "  plt.plot(x2,label=\"x2\",color='brown')\r\n",
        "   \r\n",
        "      \r\n",
        "  plt.title(\"Ecuación 2\", fontsize = 30)\r\n",
        "    \r\n",
        "  plt.legend()\r\n",
        "  plt.show()\r\n",
        "    \r\n",
        "x1 = float(input('Ingresa el valor de x1: \\n'))\r\n",
        "x2 = float(input('Ingresa el valor de x2: \\n'))\r\n",
        "iteracion = float(input('Introduce la cantidad de iteraciones: \\n'))\r\n",
        "g_next(x1,x2,iteracion)"
      ],
      "execution_count": 2,
      "outputs": [
        {
          "output_type": "stream",
          "text": [
            "Ingresa el valor de x1: \n",
            "0\n",
            "Ingresa el valor de x2: \n",
            "0\n",
            "Introduce la cantidad de iteraciones: \n",
            "4\n",
            "Iteración1\n",
            "X11=2.4\n",
            "X21=0.8\n",
            "\n",
            "Iteración2\n",
            "X12=2.08\n",
            "X22=1.04\n",
            "\n",
            "Iteración3\n",
            "X13=1.984\n",
            "X23=1.008\n",
            "\n",
            "Iteración4\n",
            "X14=1.9968\n",
            "X24=0.9984000000000001\n",
            "\n",
            "x1: [0.0, 2.4, 2.08, 1.984, 1.9968]\n",
            "x2: [0.0, 0.8, 1.04, 1.008, 0.9984000000000001]\n"
          ],
          "name": "stdout"
        },
        {
          "output_type": "display_data",
          "data": {
            "image/png": "[encoded data removed]",
            "text/plain": [
              "<Figure size 432x288 with 1 Axes>"
            ]
          },
          "metadata": {
            "tags": [],
            "needs_background": "light"
          }
        }
      ]
    },
    {
      "cell_type": "markdown",
      "metadata": {
        "id": "Hba4a2xlYniP"
      },
      "source": [
        "Ecuación 3"
      ]
    },
    {
      "cell_type": "code",
      "metadata": {
        "colab": {
          "base_uri": "https://localhost:8080/",
          "height": 805
        },
        "id": "n3fFvotCYqnm",
        "outputId": "83512ea2-e93d-4e31-c2e3-eeee9a14cff8"
      },
      "source": [
        "import matplotlib.pyplot as plt\r\n",
        "\r\n",
        "def X1(x2):\r\n",
        "  return  (1/2)-((1/8)*x2)\r\n",
        "def X2(x1):\r\n",
        "  return  (3/5)-((2/5)*x1)\r\n",
        "def X3(x1):\r\n",
        "  return  (3/4)-((1/4)*x1)\r\n",
        "\r\n",
        "def g_next(x10,x20,x30,n):\r\n",
        "        \r\n",
        "  x1 = [x10]\r\n",
        "  x2 = [x20]\r\n",
        "  x3 = [x30]\r\n",
        "    \r\n",
        "  i=0\r\n",
        "    \r\n",
        "  while (i<n):\r\n",
        "        \r\n",
        "    x1.append(X1(x2[i]))\r\n",
        "    x2.append(X2(x1[i]))\r\n",
        "    x3.append(X3(x1[i]))\r\n",
        "            \r\n",
        "            \r\n",
        "    print('Iteración'+ str(i+1))\r\n",
        "    print('X1' + str(i+1)+'=' + '' + str(x1[i+1]))\r\n",
        "    print('X2' + str(i+1)+'=' + '' + str(x2[i+1]))\r\n",
        "    print('X3' + str(i+1)+'=' + '' + str(x3[i+1])+'\\n')\r\n",
        "           \r\n",
        "    i+=1\r\n",
        "            \r\n",
        "    \r\n",
        "  print('x1: '+ str(x1) )\r\n",
        "  print('x2: '+ str(x2) )\r\n",
        "  print('x3: '+ str(x3) )\r\n",
        "      \r\n",
        "  plt.plot(x1,label=\"x1\",color='blue')\r\n",
        "  plt.plot(x2,label=\"x2\",color='green')\r\n",
        "  plt.plot(x3,label=\"x3\",color='orange')\r\n",
        "      \r\n",
        "  plt.title(\"Ecuación 3\", fontsize = 30)\r\n",
        "    \r\n",
        "  plt.legend()\r\n",
        "  plt.show()\r\n",
        "\r\n",
        "x1 = float(input('Ingresa el valor de x1: \\n'))\r\n",
        "x2 = float(input('Ingresa el valor de x2: \\n'))\r\n",
        "x3 = float(input('Ingresa el valor de x3: \\n'))\r\n",
        "\r\n",
        "iteracion = float(input('Ingresa el numero de iteraciones: \\n'))\r\n",
        "g_next(x1,x2,x3,iteracion)"
      ],
      "execution_count": 3,
      "outputs": [
        {
          "output_type": "stream",
          "text": [
            "Ingresa el valor de x1: \n",
            "0\n",
            "Ingresa el valor de x2: \n",
            "0\n",
            "Ingresa el valor de x3: \n",
            "0\n",
            "Ingresa el numero de iteraciones: \n",
            "4\n",
            "Iteración1\n",
            "X11=0.5\n",
            "X21=0.6\n",
            "X31=0.75\n",
            "\n",
            "Iteración2\n",
            "X12=0.425\n",
            "X22=0.39999999999999997\n",
            "X32=0.625\n",
            "\n",
            "Iteración3\n",
            "X13=0.45\n",
            "X23=0.42999999999999994\n",
            "X33=0.64375\n",
            "\n",
            "Iteración4\n",
            "X14=0.44625000000000004\n",
            "X24=0.41999999999999993\n",
            "X34=0.6375\n",
            "\n",
            "x1: [0.0, 0.5, 0.425, 0.45, 0.44625000000000004]\n",
            "x2: [0.0, 0.6, 0.39999999999999997, 0.42999999999999994, 0.41999999999999993]\n",
            "x3: [0.0, 0.75, 0.625, 0.64375, 0.6375]\n"
          ],
          "name": "stdout"
        },
        {
          "output_type": "display_data",
          "data": {
            "image/png": "[encoded data removed]",
            "text/plain": [
              "<Figure size 432x288 with 1 Axes>"
            ]
          },
          "metadata": {
            "tags": [],
            "needs_background": "light"
          }
        }
      ]
    },
    {
      "cell_type": "markdown",
      "metadata": {
        "id": "PG9DLyYQaOMt"
      },
      "source": [
        "Ecuación 4"
      ]
    },
    {
      "cell_type": "code",
      "metadata": {
        "colab": {
          "base_uri": "https://localhost:8080/",
          "height": 805
        },
        "id": "XN10kVXzaRK8",
        "outputId": "203d724b-d780-439e-9d43-ffd57d78970c"
      },
      "source": [
        "import matplotlib.pyplot as plt\r\n",
        "\r\n",
        "def X1(x2,x3):\r\n",
        "  return  (1/3)*(11-x2-((1/2)*x3))\r\n",
        "def X2(x1,x3):\r\n",
        "  return  (1/2)*(5+((1/4)*x1)-((1/2)*x3))\r\n",
        "def X3(x1,x2):\r\n",
        "  return  (1/6)*(23-x1+x2)\r\n",
        "\r\n",
        "def g_next(x10,x20,x30,n):\r\n",
        "        \r\n",
        "  x1 = [x10]\r\n",
        "  x2 = [x20]\r\n",
        "  x3 = [x30]\r\n",
        "    \r\n",
        "  i=0\r\n",
        "    \r\n",
        "  while (i<n):\r\n",
        "        \r\n",
        "    x1.append(X1(x2[i],x3[i]))\r\n",
        "    x2.append(X2(x1[i],x3[i]))\r\n",
        "    x3.append(X3(x1[i],x2[i]))        \r\n",
        "            \r\n",
        "    print('Iteración'+ str(i+1))\r\n",
        "    print('X1' + str(i+1)+'=' + '' + str(x1[i+1]))\r\n",
        "    print('X2' + str(i+1)+'=' + '' + str(x2[i+1]))\r\n",
        "    print('X3' + str(i+1)+'=' + '' + str(x3[i+1])+'\\n')\r\n",
        "           \r\n",
        "    i+=1\r\n",
        "              \r\n",
        "  print('x1: '+ str(x1) )\r\n",
        "  print('x2: '+ str(x2) )\r\n",
        "  print('x3: '+ str(x3) )\r\n",
        "    \r\n",
        "      \r\n",
        "  plt.plot(x1,label=\"x1\",color='cyan')\r\n",
        "  plt.plot(x2,label=\"x2\",color='purple')\r\n",
        "  plt.plot(x3,label=\"x3\",color='violet')\r\n",
        "      \r\n",
        "  plt.title(\"Ecuación 4\", fontsize = 30)\r\n",
        "    \r\n",
        "  plt.legend()\r\n",
        "  plt.show()\r\n",
        "\r\n",
        "x1 = float(input('Ingresa el valor de x1: \\n'))\r\n",
        "x2 = float(input('Ingresa el valor de x2: \\n'))\r\n",
        "x3 = float(input('Ingresa el valor de x3: \\n'))\r\n",
        "\r\n",
        "iteracion = float(input('Ingresa el numero de iteraciones: \\n'))\r\n",
        "g_next(x1,x2,x3,iteracion)"
      ],
      "execution_count": 5,
      "outputs": [
        {
          "output_type": "stream",
          "text": [
            "Ingresa el valor de x1: \n",
            "0\n",
            "Ingresa el valor de x2: \n",
            "0\n",
            "Ingresa el valor de x3: \n",
            "0\n",
            "Ingresa el numero de iteraciones: \n",
            "4\n",
            "Iteración1\n",
            "X11=3.6666666666666665\n",
            "X21=2.5\n",
            "X31=3.833333333333333\n",
            "\n",
            "Iteración2\n",
            "X12=2.1944444444444446\n",
            "X22=2.0\n",
            "X32=3.6388888888888884\n",
            "\n",
            "Iteración3\n",
            "X13=2.393518518518518\n",
            "X23=1.8645833333333333\n",
            "X33=3.800925925925926\n",
            "\n",
            "Iteración4\n",
            "X14=2.411651234567901\n",
            "X24=1.8489583333333335\n",
            "X34=3.745177469135802\n",
            "\n",
            "x1: [0.0, 3.6666666666666665, 2.1944444444444446, 2.393518518518518, 2.411651234567901]\n",
            "x2: [0.0, 2.5, 2.0, 1.8645833333333333, 1.8489583333333335]\n",
            "x3: [0.0, 3.833333333333333, 3.6388888888888884, 3.800925925925926, 3.745177469135802]\n"
          ],
          "name": "stdout"
        },
        {
          "output_type": "display_data",
          "data": {
            "image/png": "[encoded data removed]",
            "text/plain": [
              "<Figure size 432x288 with 1 Axes>"
            ]
          },
          "metadata": {
            "tags": [],
            "needs_background": "light"
          }
        }
      ]
    }
  ]
}